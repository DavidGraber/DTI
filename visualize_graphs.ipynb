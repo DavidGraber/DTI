{
 "cells": [
  {
   "cell_type": "code",
   "execution_count": null,
   "metadata": {},
   "outputs": [
    {
     "ename": "",
     "evalue": "",
     "output_type": "error",
     "traceback": [
      "\u001b[1;31mFailed to start the Kernel. \n",
      "\u001b[1;31mCommand \"python setup.py egg_info\" failed with error code 1 in /tmp/pip-build-3zv8vmxx/argon2-cffi-bindings/. \n",
      "\u001b[1;31mView Jupyter <a href='command:jupyter.viewOutput'>log</a> for further details."
     ]
    }
   ],
   "source": [
    "import torch\n",
    "graph = torch.load('/cluster/work/math/dagraber/DTI/PDBbind1/1a0t_graph.pth')"
   ]
  },
  {
   "cell_type": "code",
   "execution_count": null,
   "metadata": {},
   "outputs": [],
   "source": [
    "from f_visualize_AA_IntGraph import visualize_graph\n",
    "\n",
    "visualize_graph(graph.cpu(), \n",
    "                graph.id, \n",
    "                markersize=score_vector,\n",
    "                linewidth=3,\n",
    "                show_edge_attr=False, \n",
    "                show_edges=True,\n",
    "                remove_noncov_edges=True)"
   ]
  }
 ],
 "metadata": {
  "kernelspec": {
   "display_name": "graphgen_ipynb",
   "language": "python",
   "name": "python3"
  },
  "language_info": {
   "name": "python",
   "version": "3.12.3"
  }
 },
 "nbformat": 4,
 "nbformat_minor": 2
}
