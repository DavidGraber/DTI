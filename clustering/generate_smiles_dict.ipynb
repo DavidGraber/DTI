{
 "cells": [
  {
   "cell_type": "code",
   "execution_count": 1,
   "metadata": {},
   "outputs": [],
   "source": [
    "from rdkit import Chem\n",
    "import os\n",
    "import pickle\n",
    "\n",
    "def load_object(filename):\n",
    "    with open(filename, 'rb') as f:\n",
    "        return pickle.load(f)\n",
    "\n",
    "def sdf_to_smiles(sdf_path):\n",
    "    suppl = Chem.SDMolSupplier(sdf_path)\n",
    "    smiles_list = [Chem.MolToSmiles(mol) for mol in suppl if mol is not None]\n",
    "    return smiles_list[0]\n",
    "\n",
    "\n"
   ]
  },
  {
   "cell_type": "code",
   "execution_count": 2,
   "metadata": {},
   "outputs": [
    {
     "name": "stdout",
     "output_type": "stream",
     "text": [
      "5u4x\n",
      "6cvy\n",
      "5gwy\n",
      "3ot8\n",
      "5eqq\n",
      "6cvx\n",
      "3le8\n",
      "2r1w\n",
      "6cvw\n",
      "2y9q\n",
      "2yjq\n"
     ]
    }
   ],
   "source": [
    "smiles_dict = load_object('/data/grbv/PDBbind/DTI5_smiles_dict.pkl')\n",
    "\n",
    "data_dir = '/data/grbv/PDBbind/DTI5_input_data_processed'\n",
    "complexes = [folder for folder in os.listdir(data_dir) if folder[0].isdigit() and len(folder) == 4]\n",
    "\n",
    "for complex in complexes: \n",
    "    if complex in smiles_dict.keys():\n",
    "        continue\n",
    "    else:\n",
    "        print(complex)\n",
    "        sdf_path = os.path.join(data_dir, complex, f'{complex}_ligand_san.sdf')\n",
    "        smiles = sdf_to_smiles(sdf_path)\n",
    "        smiles_dict[complex] = smiles\n"
   ]
  },
  {
   "cell_type": "code",
   "execution_count": 5,
   "metadata": {},
   "outputs": [],
   "source": [
    "with open('/data/grbv/PDBbind/DTI5_smiles_dict2.pkl', 'wb') as f:\n",
    "    pickle.dump(smiles_dict, f)"
   ]
  }
 ],
 "metadata": {
  "kernelspec": {
   "display_name": "pyg",
   "language": "python",
   "name": "python3"
  },
  "language_info": {
   "codemirror_mode": {
    "name": "ipython",
    "version": 3
   },
   "file_extension": ".py",
   "mimetype": "text/x-python",
   "name": "python",
   "nbconvert_exporter": "python",
   "pygments_lexer": "ipython3",
   "version": "3.10.12"
  }
 },
 "nbformat": 4,
 "nbformat_minor": 2
}
